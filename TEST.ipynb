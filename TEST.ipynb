{
 "cells": [
  {
   "cell_type": "code",
   "execution_count": 22,
   "metadata": {},
   "outputs": [
    {
     "name": "stdout",
     "output_type": "stream",
     "text": [
      "y2 :  [0 0 0 0 1 1 1 8 7 7 7 7 7 7 7 7 2 2 2 2 3 3 3 3 3 3 4 4 4 3 0 0 0 0 0 0 0\n",
      " 0] \n",
      "y2.bincount :  [12  3  4  7  3  0  0  8  1]\n",
      "maxLabel:  7 maxLabelcount :  8\n"
     ]
    },
    {
     "data": {
      "text/plain": [
       "array([0.8, 0.8, 0.8, 0.8, 1. , 1. , 1. , 1. , 1.2, 1.2, 1.2, 1.2, 1.2,\n",
       "       1.2, 1.2, 1.2, 1. , 1. , 1. , 1. , 1. , 1. , 1. , 1. , 1. , 1. ,\n",
       "       1. , 1. , 1. , 1. , 0.8, 0.8, 0.8, 0.8, 0.8, 0.8, 0.8, 0.8])"
      ]
     },
     "execution_count": 22,
     "metadata": {},
     "output_type": "execute_result"
    }
   ],
   "source": [
    "from cupy import array, bincount, argmax, max as cmax, where\n",
    "y2 = array([0,0,0,0,1,1,1,8,7,7,7,7,7,7,7,7,2,2,2,2,3,3,3,3,3,3,4,4,4,3,0,0,0,0,0,0,0,0])\n",
    "binc = bincount(y2)\n",
    "maxLabel = argmax(binc[1:]) + 1\n",
    "maxLabelcount = cmax(binc[1:])\n",
    "print(\"y2 : \", y2, \"\\ny2.bincount : \", binc)\n",
    "print(\"maxLabel: \", maxLabel, \"maxLabelcount : \", maxLabelcount)\n",
    "# 확률로 변환, maxLabel => 1.2, 0번 label => 0.8, 나머지 label => 1 \n",
    "\n",
    "y2 = where(y2 == maxLabel, 1.2, where(y2 == 0, 0.8, 1))\n",
    "y2\n",
    "#     y2 = where(y2 == maxLabel, 1.2, ())"
   ]
  },
  {
   "cell_type": "code",
   "execution_count": 31,
   "metadata": {},
   "outputs": [
    {
     "data": {
      "text/plain": [
       "array([0, 1, 2, 3, 4, 5, 5, 4, 3, 4, 5, 6])"
      ]
     },
     "execution_count": 31,
     "metadata": {},
     "output_type": "execute_result"
    }
   ],
   "source": [
    "from cupy import array, bincount, argmax, max as cmax, where\n",
    "y2 = array([-1, 0, 1,2,3,4,4,3,2,3,4,5])\n",
    "if -1 in y2:\n",
    "    y2 += 1\n",
    "y2"
   ]
  },
  {
   "cell_type": "code",
   "execution_count": null,
   "metadata": {},
   "outputs": [],
   "source": [
    "\"\"\"\"\"\"\n",
    "import matplotlib.pyplot as plt\n",
    "import seaborn as sns\n",
    "import numpy as np\n",
    "import cupy as cp\n",
    "import hdbscan\n",
    "from sklearn.preprocessing import RobustScaler\n",
    "from functions import data_load, randomSampling, trip_Distance, Calculate_distance,\\\n",
    "Calculate_Matrix, dbcluster, mat2, pick\n",
    "\n",
    "dclus, pp, dd = data_load()\n",
    "\n",
    "def myHdbscan(train_data_robustScaled, cluster_size):\n",
    "    \"\"\"auto HBSCAN\"\"\"\n",
    "    test_data = train_data_robustScaled\n",
    "    clusterer = hdbscan.HDBSCAN(min_cluster_size = cluster_size, gen_min_span_tree=False, prediction_data =True)\n",
    "    clusterer.fit(test_data)\n",
    "    return clusterer, np.unique(clusterer.labels_).shape[0] # label갯수 리턴\n",
    "\n",
    "# def ScaledHdbscan(idx, pp, cluster_size = 7):\n",
    "from sklearn.preprocessing import RobustScaler\n",
    "# parameter\n",
    "# idx += 1\n",
    "\n",
    "outlier=[]\n",
    "for idx in range(len(pp)):\n",
    "    cluster_size = 7\n",
    "\n",
    "    #outlier 잡기 : Scaling\n",
    "    robustScaler = RobustScaler()\n",
    "    train_data = pp[idx][:, :2]\n",
    "    train_data = cp.asnumpy(train_data)\n",
    "    robustScaler.fit(train_data)\n",
    "    train_data_robustScaled = robustScaler.transform(train_data)\n",
    "    # return myHdbscan(train_data_robustScaled, cluster_size) # 4 ~ 8\n",
    "    # Hdbscan 적용\n",
    "    clusterer, labelNum  = myHdbscan(train_data_robustScaled, cluster_size) # 4 ~ 8\n",
    "    print (clusterer, labelNum)\n",
    "    \"\"\" dbscan autoScaling\"\"\"\n",
    "    cnt = 0\n",
    "    while labelNum > 15:\n",
    "        cnt += 1\n",
    "        if cnt >10:\n",
    "            print (\"10넘음\")\n",
    "            break\n",
    "\n",
    "        # cluster_size 낮춰서\n",
    "        cluster_size += 1\n",
    "        clusterer, labelNum = myHdbscan(train_data_robustScaled, cluster_size)\n",
    "    \n",
    "    if labelNum < 3:\n",
    "        cluster_size += 1\n",
    "        clusterer, labelNum = myHdbscan(train_data_robustScaled, cluster_size)\n",
    "        cluster_size -= 1\n",
    "    \n",
    "    while labelNum < 3:\n",
    "        cnt += 1\n",
    "        if cnt > 4:\n",
    "            print(\"labelNum < 3\")\n",
    "            break\n",
    "        cluster_size -= 1\n",
    "        clusterer, labelNum = myHdbscan(train_data_robustScaled, cluster_size)\n",
    "\n",
    "    #         # cluster_size 줄여가며\n",
    "    #         if cluster_size2 > 2:\n",
    "    #             cluster_size2 -= 1\n",
    "    #             clusterer2, labelNum2 = autoHdbscan(train_data_robustScaled, cluster_size2)\n",
    "\n",
    "    #         if labelNum1 >= 3 and labelNum1 <= 8:\n",
    "    #             clusterer, labelNum, cluster_size = clusterer1, labelNum1, cluster_size1\n",
    "    #             break\n",
    "\n",
    "    #         if labelNum2 >= 3 and labelNum2 <= 8:\n",
    "    #             clusterer, labelNum, cluster_size = clusterer2, labelNum2, cluster_size2\n",
    "    #             break\n",
    "\n",
    "    #         if cluster_size1 >= 20 and cluster_size2 <= 2:\n",
    "    #             print(\"Can't run autoHdbscan\\n\")\n",
    "    #             break\n",
    "\n",
    "    # label 수\n",
    "    print(\"idx: \",idx,\"\\ncnt: \", cnt, \"\\nlabelNum: \", labelNum, \"\\ncluster_size: \", cluster_size, \"\\nclusterer.labels_.shape: \",clusterer.labels_.shape)\n",
    "\n",
    "    if labelNum > 15:\n",
    "        outlier.append(idx)\n",
    "        \n",
    "    for i in np.unique(clusterer.labels_):\n",
    "        print(i, \"Label count : \" ,clusterer.labels_[clusterer.labels_ == i].size)\n",
    "\n",
    "    color_palette = sns.color_palette('deep', 60)\n",
    "    cluster_colors = [color_palette[x] if x >= 0 else (0.5, 0.5, 0.5) for x in clusterer.labels_]\n",
    "    cluster_member_colors = [sns.desaturate(x, p) for x, p in zip(cluster_colors, clusterer.probabilities_)]\n",
    "    plt.scatter(*train_data.T, s=10, linewidth=0, c=cluster_member_colors, alpha=0.6)\n",
    "    plt.show()\n",
    "    plt.clf()\n",
    "print(outlier)"
   ]
  }
 ],
 "metadata": {
  "kernelspec": {
   "display_name": "Python 3",
   "language": "python",
   "name": "python3"
  },
  "language_info": {
   "codemirror_mode": {
    "name": "ipython",
    "version": 3
   },
   "file_extension": ".py",
   "mimetype": "text/x-python",
   "name": "python",
   "nbconvert_exporter": "python",
   "pygments_lexer": "ipython3",
   "version": "3.7.6"
  }
 },
 "nbformat": 4,
 "nbformat_minor": 4
}
